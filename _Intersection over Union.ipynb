{
 "cells": [
  {
   "cell_type": "markdown",
   "id": "e776d3c3",
   "metadata": {},
   "source": [
    "# Trabalho 3\n",
    "\n",
    "## Anotação de imagens\n",
    "#### https://github.com/wkentaro/labelme - ferramenta aconselhada\n",
    "\n",
    "#### entrega 25/05"
   ]
  },
  {
   "cell_type": "markdown",
   "id": "a9f0dad0",
   "metadata": {},
   "source": [
    "# Integrantes do grupo\n",
    "\n",
    "### Luiz Eduardo de Souza\n",
    "### Lorenzo Lazaroto\n",
    "### Thiago Almeida\n",
    "### Vitor Fuentes Ferreira Pires 21101680"
   ]
  },
  {
   "cell_type": "code",
   "execution_count": 1,
   "id": "ddba5d4c",
   "metadata": {},
   "outputs": [
    {
     "ename": "ModuleNotFoundError",
     "evalue": "No module named 'labelme'",
     "output_type": "error",
     "traceback": [
      "\u001b[1;31m---------------------------------------------------------------------------\u001b[0m",
      "\u001b[1;31mModuleNotFoundError\u001b[0m                       Traceback (most recent call last)",
      "Input \u001b[1;32mIn [1]\u001b[0m, in \u001b[0;36m<cell line: 1>\u001b[1;34m()\u001b[0m\n\u001b[1;32m----> 1\u001b[0m \u001b[38;5;28;01mimport\u001b[39;00m \u001b[38;5;21;01mlabelme\u001b[39;00m\n",
      "\u001b[1;31mModuleNotFoundError\u001b[0m: No module named 'labelme'"
     ]
    }
   ],
   "source": [
    "import labelme"
   ]
  },
  {
   "cell_type": "code",
   "execution_count": null,
   "id": "b209499a",
   "metadata": {},
   "outputs": [],
   "source": [
    "!labelme"
   ]
  }
 ],
 "metadata": {
  "kernelspec": {
   "display_name": "Python 3 (ipykernel)",
   "language": "python",
   "name": "python3"
  },
  "language_info": {
   "codemirror_mode": {
    "name": "ipython",
    "version": 3
   },
   "file_extension": ".py",
   "mimetype": "text/x-python",
   "name": "python",
   "nbconvert_exporter": "python",
   "pygments_lexer": "ipython3",
   "version": "3.8.12"
  }
 },
 "nbformat": 4,
 "nbformat_minor": 5
}
